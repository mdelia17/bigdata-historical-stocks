{
 "cells": [
  {
   "cell_type": "code",
   "execution_count": 1,
   "metadata": {},
   "outputs": [],
   "source": [
    "import pandas as pd\n",
    "import numpy as np\n",
    "from sklearn.utils import shuffle"
   ]
  },
  {
   "cell_type": "code",
   "execution_count": null,
   "metadata": {},
   "outputs": [],
   "source": [
    "# pd.set_option('display.max_rows', None)\n",
    "# pd.set_option('display.max_columns', None)"
   ]
  },
  {
   "cell_type": "code",
   "execution_count": 10,
   "metadata": {},
   "outputs": [],
   "source": [
    "dataPrices = pd.read_csv(\"dataset_raw/historical_stock_prices.csv\")\n",
    "dataPrices = shuffle(dataPrices)\n",
    "dataPrices_y2 = dataPrices[dataPrices['date'] >= '2009-01-01']\n",
    "dataPrices_y2 = dataPrices_y2[dataPrices_y2['date'] <= '2018-12-31']\n",
    "dataPrices_y2 = shuffle(dataPrices_y2)\n",
    "dataPrices_y3 = dataPrices[dataPrices['date'] >= '2017-01-01']\n",
    "dataPrices_y3 = dataPrices_y3[dataPrices_y3['date'] <= '2017-12-31']\n",
    "dataPrices_y3 = shuffle(dataPrices_y3)"
   ]
  },
  {
   "cell_type": "markdown",
   "metadata": {},
   "source": [
    "# Generazione dataset tutti esercizi: 20M di righe"
   ]
  },
  {
   "cell_type": "code",
   "execution_count": 11,
   "metadata": {},
   "outputs": [],
   "source": [
    "dataPrices.to_csv('dataset/prices_20M.csv', index = False, header = False)"
   ]
  },
  {
   "cell_type": "markdown",
   "metadata": {},
   "source": [
    "# Generazione dataset esercizio 1: 1M di righe"
   ]
  },
  {
   "cell_type": "code",
   "execution_count": 13,
   "metadata": {},
   "outputs": [],
   "source": [
    "dataPrices_3 = dataPrices.head(1000000)\n",
    "dataPrices_3.to_csv('dataset/prices_es1_1M.csv', index = False, header = False)"
   ]
  },
  {
   "cell_type": "markdown",
   "metadata": {},
   "source": [
    "# Generazione dataset esercizio 1: 10M di righe"
   ]
  },
  {
   "cell_type": "code",
   "execution_count": 15,
   "metadata": {},
   "outputs": [],
   "source": [
    "dataPrices_3 = dataPrices.head(10000000)\n",
    "dataPrices_3.to_csv('dataset/prices_es1_10M.csv', index = False, header = False)"
   ]
  },
  {
   "cell_type": "markdown",
   "metadata": {},
   "source": [
    "# Generazione dataset esercizio 2: 1M di righe"
   ]
  },
  {
   "cell_type": "code",
   "execution_count": 20,
   "metadata": {},
   "outputs": [],
   "source": [
    "dataPrices_1 = dataPrices_y2.head(900000)\n",
    "dataPrices_2 = dataPrices.head(100000)\n",
    "dataPrices_3 = dataPrices_1.append(dataPrices_2)\n",
    "dataPrices_3 = shuffle(dataPrices_3)\n",
    "dataPrices_3.to_csv('dataset/prices_es2_1M.csv', index = False, header = False)"
   ]
  },
  {
   "cell_type": "markdown",
   "metadata": {},
   "source": [
    "# Generazione dataset esercizio 2: 10M di righe"
   ]
  },
  {
   "cell_type": "code",
   "execution_count": 25,
   "metadata": {},
   "outputs": [],
   "source": [
    "dataPrices_1 = dataPrices_y2.head(9000000)\n",
    "dataPrices_2 = dataPrices.head(1000000)\n",
    "dataPrices_3 = dataPrices_1.append(dataPrices_2)\n",
    "dataPrices_3 = shuffle(dataPrices_3)\n",
    "dataPrices_3.to_csv('dataset/prices_es2_10M.csv', index = False, header = False)"
   ]
  },
  {
   "cell_type": "markdown",
   "metadata": {},
   "source": [
    "# Generazione dataset esercizio 3: 1M di righe"
   ]
  },
  {
   "cell_type": "code",
   "execution_count": 29,
   "metadata": {},
   "outputs": [],
   "source": [
    "dataPrices_1 = dataPrices_y3.head(900000)\n",
    "dataPrices_2 = dataPrices.head(100000)\n",
    "dataPrices_3 = dataPrices_1.append(dataPrices_2)\n",
    "dataPrices_3 = shuffle(dataPrices_3)\n",
    "dataPrices_3.to_csv('dataset/prices_es3_1M.csv', index = False, header = False)"
   ]
  },
  {
   "cell_type": "markdown",
   "metadata": {},
   "source": [
    "# Generazione dataset esercizio 3: 10M di righe"
   ]
  },
  {
   "cell_type": "code",
   "execution_count": 35,
   "metadata": {},
   "outputs": [],
   "source": [
    "dataPrices_2 = dataPrices.head(8705966)\n",
    "dataPrices_3 = dataPrices_y3.append(dataPrices_2)\n",
    "dataPrices_3 = shuffle(dataPrices_3)\n",
    "dataPrices_3.to_csv('dataset/prices_es3_10M.csv', index = False, header = False)"
   ]
  }
 ],
 "metadata": {
  "kernelspec": {
   "display_name": "Python 3",
   "language": "python",
   "name": "python3"
  },
  "language_info": {
   "codemirror_mode": {
    "name": "ipython",
    "version": 3
   },
   "file_extension": ".py",
   "mimetype": "text/x-python",
   "name": "python",
   "nbconvert_exporter": "python",
   "pygments_lexer": "ipython3",
   "version": "3.8.3"
  }
 },
 "nbformat": 4,
 "nbformat_minor": 4
}
