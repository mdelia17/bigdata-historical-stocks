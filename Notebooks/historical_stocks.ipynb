{
 "cells": [
  {
   "cell_type": "code",
   "execution_count": null,
   "metadata": {},
   "outputs": [],
   "source": [
    "import pandas as pd\n",
    "import numpy as np"
   ]
  },
  {
   "cell_type": "code",
   "execution_count": null,
   "metadata": {},
   "outputs": [],
   "source": [
    "# pd.set_option('display.max_rows', None)\n",
    "# pd.set_option('display.max_columns', None)"
   ]
  },
  {
   "cell_type": "code",
   "execution_count": null,
   "metadata": {},
   "outputs": [],
   "source": [
    "dataStocks = pd.read_csv(\"../dataset_raw/historical_stocks.csv\")"
   ]
  },
  {
   "cell_type": "code",
   "execution_count": null,
   "metadata": {
    "scrolled": true
   },
   "outputs": [],
   "source": [
    "# si controlla se ci sono valori nulli\n",
    "dataStocks.isnull().sum()"
   ]
  },
  {
   "cell_type": "code",
   "execution_count": null,
   "metadata": {},
   "outputs": [],
   "source": [
    "# si controlla se ci sono aziende con lo stesso nome che compaiono più volte\n",
    "dataStocks.groupby('name').count()"
   ]
  },
  {
   "cell_type": "code",
   "execution_count": null,
   "metadata": {},
   "outputs": [],
   "source": [
    "# esempio di un'azienda che compare due volte, ma una volta non cha il settore e l'industria specificati\n",
    "dataStocks[dataStocks.name == 'GASLOG LP.']"
   ]
  },
  {
   "cell_type": "code",
   "execution_count": null,
   "metadata": {},
   "outputs": [],
   "source": [
    "app = dataStocks.groupby('name').count()[['ticker', 'sector']]\n",
    "app"
   ]
  },
  {
   "cell_type": "code",
   "execution_count": null,
   "metadata": {},
   "outputs": [],
   "source": [
    "# il numero di volte che l'azienda compare (determinato da ticker) è diverso dal numero dei nomi dati al settore.\n",
    "# Questo significa che l'azienda per sbaglio non ha messo sempre il nome del settore. Prendo le aziende che non\n",
    "# hanno messo sempre il nome al settore\n",
    "app2 = app.loc[app.ticker != app.sector]\n",
    "# prendo le aziende che hanno messo almeno un nome nel settore (le aziende con non l'hanno mai messo vanno buttate)\n",
    "app3 = app2.loc[app2.sector != 0]\n",
    "# lista delle aziende che si sono scordate di mettere il nome del settore, ma che l'hanno messo almeno una volta\n",
    "lista_aziende_con_NaN = list(app3.index)"
   ]
  },
  {
   "cell_type": "code",
   "execution_count": null,
   "metadata": {
    "scrolled": true
   },
   "outputs": [],
   "source": [
    "# set delle aziende che si sono scordate di mettere il nome del settore, ma l'hanno messo almeno una volta\n",
    "set_aziende_con_NaN = set(lista_aziende_con_NaN)\n",
    "set_aziende_con_NaN"
   ]
  },
  {
   "cell_type": "code",
   "execution_count": null,
   "metadata": {},
   "outputs": [],
   "source": [
    "diz = {}\n",
    "for index, row in dataStocks.iterrows():\n",
    "    # se il nome dell'azienda si trova tra quelle che non hanno assegnato tutti i nomi a sector e industry\n",
    "    if row['name'] in set_aziende_con_NaN:\n",
    "        # e se tutti i valori della riga non sono nulli (quindi ho l'azienda pippo che compare 5 volte e 1 \n",
    "        # volta mette tutti i valori giusti, io devo vedere in quale riga mette tutti quei valori giusti, \n",
    "        # in modo da prendere le informazioni) \n",
    "        # (un po' brutto farlo così)\n",
    "        # inoltre se l'azienda pippo compare 5 volte e 2 volte mette tutti i volori giusti, entrembe le volte questi\n",
    "        # vengono messi nel dizionario, penso che è come se c'è una sovrascrittura tutte le volte e non\n",
    "        # è un problema perché i valori sono sempre uguali\n",
    "        if not row.isnull().values.any():\n",
    "            # print(\"Nome:   \" + row['name'] + \"  \", \"Settore: \" + row['sector'], \"Industria:   \" + row['industry'])\n",
    "            # alla chiave nome dell'azienda, associo la lista di valori corretti\n",
    "            diz[row['name']] = [row['sector'], row['industry']]"
   ]
  },
  {
   "cell_type": "code",
   "execution_count": null,
   "metadata": {},
   "outputs": [],
   "source": [
    "# per tutte le chiavi della lista, quindi per tutte le aziende che si sono scordate qualcosa\n",
    "for key in diz.keys():\n",
    "    # sostituisco nel dataset tutti i valori in sector e industry con i valori corretti\n",
    "    # sostituisco anche quelli che già ci sono, ma non fa niente\n",
    "    dataStocks.loc[dataStocks.name == key, 'sector'] = diz[key][0]\n",
    "    dataStocks.loc[dataStocks.name == key, 'industry'] = diz[key][1]"
   ]
  },
  {
   "cell_type": "code",
   "execution_count": null,
   "metadata": {},
   "outputs": [],
   "source": [
    "# 6460 - 1018 = 5442\n",
    "dataStocks.dropna(axis=0, inplace=True)"
   ]
  },
  {
   "cell_type": "code",
   "execution_count": null,
   "metadata": {},
   "outputs": [],
   "source": [
    "# si sostituiscono li virgole che compaiono nel nome, in quanto potrebbero dare problemi quando \n",
    "# si processano i dati\n",
    "dataStocks['name'] = dataStocks['name'].str.replace(',','')"
   ]
  },
  {
   "cell_type": "code",
   "execution_count": null,
   "metadata": {},
   "outputs": [],
   "source": [
    "dataStocks.to_csv('../dataset/historical_stocks_clean.csv', index = False, header = False)"
   ]
  }
 ],
 "metadata": {
  "kernelspec": {
   "display_name": "Python 3",
   "language": "python",
   "name": "python3"
  },
  "language_info": {
   "codemirror_mode": {
    "name": "ipython",
    "version": 3
   },
   "file_extension": ".py",
   "mimetype": "text/x-python",
   "name": "python",
   "nbconvert_exporter": "python",
   "pygments_lexer": "ipython3",
   "version": "3.8.3"
  }
 },
 "nbformat": 4,
 "nbformat_minor": 4
}
