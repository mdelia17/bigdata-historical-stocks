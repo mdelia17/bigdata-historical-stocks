{
 "cells": [
  {
   "cell_type": "code",
   "execution_count": 1,
   "metadata": {},
   "outputs": [],
   "source": [
    "import pandas as pd\n",
    "import numpy as np\n",
    "#pd.set_option('display.max_rows', None)\n",
    "#pd.set_option('display.max_columns', None)"
   ]
  },
  {
   "cell_type": "code",
   "execution_count": 2,
   "metadata": {},
   "outputs": [
    {
     "name": "stdout",
     "output_type": "stream",
     "text": [
      "(6460, 5)\n"
     ]
    }
   ],
   "source": [
    "stocks = pd.read_csv('dataset/historical_stocks.csv')\n",
    "#prices = pd.read_csv('dataset/historical_stock_prices.csv')\n",
    "print(stocks.shape)\n",
    "#print(prices.shape)"
   ]
  },
  {
   "cell_type": "code",
   "execution_count": 3,
   "metadata": {
    "scrolled": false
   },
   "outputs": [
    {
     "data": {
      "text/html": [
       "<div>\n",
       "<style scoped>\n",
       "    .dataframe tbody tr th:only-of-type {\n",
       "        vertical-align: middle;\n",
       "    }\n",
       "\n",
       "    .dataframe tbody tr th {\n",
       "        vertical-align: top;\n",
       "    }\n",
       "\n",
       "    .dataframe thead th {\n",
       "        text-align: right;\n",
       "    }\n",
       "</style>\n",
       "<table border=\"1\" class=\"dataframe\">\n",
       "  <thead>\n",
       "    <tr style=\"text-align: right;\">\n",
       "      <th></th>\n",
       "      <th>ticker</th>\n",
       "      <th>exchange</th>\n",
       "      <th>name</th>\n",
       "      <th>sector</th>\n",
       "      <th>industry</th>\n",
       "    </tr>\n",
       "  </thead>\n",
       "  <tbody>\n",
       "    <tr>\n",
       "      <th>0</th>\n",
       "      <td>PIH</td>\n",
       "      <td>NASDAQ</td>\n",
       "      <td>1347 PROPERTY INSURANCE HOLDINGS, INC.</td>\n",
       "      <td>FINANCE</td>\n",
       "      <td>PROPERTY-CASUALTY INSURERS</td>\n",
       "    </tr>\n",
       "    <tr>\n",
       "      <th>1</th>\n",
       "      <td>PIHPP</td>\n",
       "      <td>NASDAQ</td>\n",
       "      <td>1347 PROPERTY INSURANCE HOLDINGS, INC.</td>\n",
       "      <td>FINANCE</td>\n",
       "      <td>PROPERTY-CASUALTY INSURERS</td>\n",
       "    </tr>\n",
       "    <tr>\n",
       "      <th>2</th>\n",
       "      <td>TURN</td>\n",
       "      <td>NASDAQ</td>\n",
       "      <td>180 DEGREE CAPITAL CORP.</td>\n",
       "      <td>FINANCE</td>\n",
       "      <td>FINANCE/INVESTORS SERVICES</td>\n",
       "    </tr>\n",
       "    <tr>\n",
       "      <th>3</th>\n",
       "      <td>FLWS</td>\n",
       "      <td>NASDAQ</td>\n",
       "      <td>1-800 FLOWERS.COM, INC.</td>\n",
       "      <td>CONSUMER SERVICES</td>\n",
       "      <td>OTHER SPECIALTY STORES</td>\n",
       "    </tr>\n",
       "    <tr>\n",
       "      <th>4</th>\n",
       "      <td>FCCY</td>\n",
       "      <td>NASDAQ</td>\n",
       "      <td>1ST CONSTITUTION BANCORP (NJ)</td>\n",
       "      <td>FINANCE</td>\n",
       "      <td>SAVINGS INSTITUTIONS</td>\n",
       "    </tr>\n",
       "    <tr>\n",
       "      <th>...</th>\n",
       "      <td>...</td>\n",
       "      <td>...</td>\n",
       "      <td>...</td>\n",
       "      <td>...</td>\n",
       "      <td>...</td>\n",
       "    </tr>\n",
       "    <tr>\n",
       "      <th>6455</th>\n",
       "      <td>ZOES</td>\n",
       "      <td>NYSE</td>\n",
       "      <td>ZOE&amp;#39;S KITCHEN, INC.</td>\n",
       "      <td>CONSUMER SERVICES</td>\n",
       "      <td>RESTAURANTS</td>\n",
       "    </tr>\n",
       "    <tr>\n",
       "      <th>6456</th>\n",
       "      <td>ZTS</td>\n",
       "      <td>NYSE</td>\n",
       "      <td>ZOETIS INC.</td>\n",
       "      <td>HEALTH CARE</td>\n",
       "      <td>MAJOR PHARMACEUTICALS</td>\n",
       "    </tr>\n",
       "    <tr>\n",
       "      <th>6457</th>\n",
       "      <td>ZTO</td>\n",
       "      <td>NYSE</td>\n",
       "      <td>ZTO EXPRESS (CAYMAN) INC.</td>\n",
       "      <td>TRANSPORTATION</td>\n",
       "      <td>TRUCKING FREIGHT/COURIER SERVICES</td>\n",
       "    </tr>\n",
       "    <tr>\n",
       "      <th>6458</th>\n",
       "      <td>ZUO</td>\n",
       "      <td>NYSE</td>\n",
       "      <td>ZUORA, INC.</td>\n",
       "      <td>TECHNOLOGY</td>\n",
       "      <td>COMPUTER SOFTWARE: PREPACKAGED SOFTWARE</td>\n",
       "    </tr>\n",
       "    <tr>\n",
       "      <th>6459</th>\n",
       "      <td>ZYME</td>\n",
       "      <td>NYSE</td>\n",
       "      <td>ZYMEWORKS INC.</td>\n",
       "      <td>HEALTH CARE</td>\n",
       "      <td>MAJOR PHARMACEUTICALS</td>\n",
       "    </tr>\n",
       "  </tbody>\n",
       "</table>\n",
       "<p>6460 rows × 5 columns</p>\n",
       "</div>"
      ],
      "text/plain": [
       "     ticker exchange                                    name  \\\n",
       "0       PIH   NASDAQ  1347 PROPERTY INSURANCE HOLDINGS, INC.   \n",
       "1     PIHPP   NASDAQ  1347 PROPERTY INSURANCE HOLDINGS, INC.   \n",
       "2      TURN   NASDAQ                180 DEGREE CAPITAL CORP.   \n",
       "3      FLWS   NASDAQ                 1-800 FLOWERS.COM, INC.   \n",
       "4      FCCY   NASDAQ           1ST CONSTITUTION BANCORP (NJ)   \n",
       "...     ...      ...                                     ...   \n",
       "6455   ZOES     NYSE                 ZOE&#39;S KITCHEN, INC.   \n",
       "6456    ZTS     NYSE                             ZOETIS INC.   \n",
       "6457    ZTO     NYSE               ZTO EXPRESS (CAYMAN) INC.   \n",
       "6458    ZUO     NYSE                             ZUORA, INC.   \n",
       "6459   ZYME     NYSE                          ZYMEWORKS INC.   \n",
       "\n",
       "                 sector                                 industry  \n",
       "0               FINANCE               PROPERTY-CASUALTY INSURERS  \n",
       "1               FINANCE               PROPERTY-CASUALTY INSURERS  \n",
       "2               FINANCE               FINANCE/INVESTORS SERVICES  \n",
       "3     CONSUMER SERVICES                   OTHER SPECIALTY STORES  \n",
       "4               FINANCE                     SAVINGS INSTITUTIONS  \n",
       "...                 ...                                      ...  \n",
       "6455  CONSUMER SERVICES                              RESTAURANTS  \n",
       "6456        HEALTH CARE                    MAJOR PHARMACEUTICALS  \n",
       "6457     TRANSPORTATION        TRUCKING FREIGHT/COURIER SERVICES  \n",
       "6458         TECHNOLOGY  COMPUTER SOFTWARE: PREPACKAGED SOFTWARE  \n",
       "6459        HEALTH CARE                    MAJOR PHARMACEUTICALS  \n",
       "\n",
       "[6460 rows x 5 columns]"
      ]
     },
     "execution_count": 3,
     "metadata": {},
     "output_type": "execute_result"
    }
   ],
   "source": [
    "stocks"
   ]
  },
  {
   "cell_type": "code",
   "execution_count": 4,
   "metadata": {
    "scrolled": true
   },
   "outputs": [
    {
     "data": {
      "text/html": [
       "<div>\n",
       "<style scoped>\n",
       "    .dataframe tbody tr th:only-of-type {\n",
       "        vertical-align: middle;\n",
       "    }\n",
       "\n",
       "    .dataframe tbody tr th {\n",
       "        vertical-align: top;\n",
       "    }\n",
       "\n",
       "    .dataframe thead th {\n",
       "        text-align: right;\n",
       "    }\n",
       "</style>\n",
       "<table border=\"1\" class=\"dataframe\">\n",
       "  <thead>\n",
       "    <tr style=\"text-align: right;\">\n",
       "      <th></th>\n",
       "      <th>ticker</th>\n",
       "      <th>exchange</th>\n",
       "      <th>name</th>\n",
       "      <th>sector</th>\n",
       "      <th>industry</th>\n",
       "    </tr>\n",
       "  </thead>\n",
       "  <tbody>\n",
       "    <tr>\n",
       "      <th>19</th>\n",
       "      <td>ABP</td>\n",
       "      <td>NASDAQ</td>\n",
       "      <td>ABPRO CORPORATION</td>\n",
       "      <td>NaN</td>\n",
       "      <td>NaN</td>\n",
       "    </tr>\n",
       "    <tr>\n",
       "      <th>42</th>\n",
       "      <td>SQZZ</td>\n",
       "      <td>NASDAQ</td>\n",
       "      <td>ACTIVE ALTS CONTRARIAN ETF</td>\n",
       "      <td>NaN</td>\n",
       "      <td>NaN</td>\n",
       "    </tr>\n",
       "    <tr>\n",
       "      <th>62</th>\n",
       "      <td>ACT</td>\n",
       "      <td>NASDAQ</td>\n",
       "      <td>ADVISORSHARES VICE ETF</td>\n",
       "      <td>NaN</td>\n",
       "      <td>NaN</td>\n",
       "    </tr>\n",
       "    <tr>\n",
       "      <th>100</th>\n",
       "      <td>ABDC</td>\n",
       "      <td>NASDAQ</td>\n",
       "      <td>ALCENTRA CAPITAL CORP.</td>\n",
       "      <td>NaN</td>\n",
       "      <td>NaN</td>\n",
       "    </tr>\n",
       "    <tr>\n",
       "      <th>124</th>\n",
       "      <td>SMCP</td>\n",
       "      <td>NASDAQ</td>\n",
       "      <td>ALPHAMARK ACTIVELY MANAGED SMALL CAP ETF</td>\n",
       "      <td>NaN</td>\n",
       "      <td>NaN</td>\n",
       "    </tr>\n",
       "    <tr>\n",
       "      <th>...</th>\n",
       "      <td>...</td>\n",
       "      <td>...</td>\n",
       "      <td>...</td>\n",
       "      <td>...</td>\n",
       "      <td>...</td>\n",
       "    </tr>\n",
       "    <tr>\n",
       "      <th>6393</th>\n",
       "      <td>WIA</td>\n",
       "      <td>NYSE</td>\n",
       "      <td>WESTERN ASSET/CLAYMORE U.S. TREASURY INFLATION...</td>\n",
       "      <td>NaN</td>\n",
       "      <td>NaN</td>\n",
       "    </tr>\n",
       "    <tr>\n",
       "      <th>6431</th>\n",
       "      <td>XFLT</td>\n",
       "      <td>NYSE</td>\n",
       "      <td>XAI OCTAGON FLOATING RATE &amp; ALTERNATIVE INCOME...</td>\n",
       "      <td>NaN</td>\n",
       "      <td>NaN</td>\n",
       "    </tr>\n",
       "    <tr>\n",
       "      <th>6451</th>\n",
       "      <td>ZB^A</td>\n",
       "      <td>NYSE</td>\n",
       "      <td>ZIONS BANCORPORATION</td>\n",
       "      <td>NaN</td>\n",
       "      <td>NaN</td>\n",
       "    </tr>\n",
       "    <tr>\n",
       "      <th>6452</th>\n",
       "      <td>ZB^G</td>\n",
       "      <td>NYSE</td>\n",
       "      <td>ZIONS BANCORPORATION</td>\n",
       "      <td>NaN</td>\n",
       "      <td>NaN</td>\n",
       "    </tr>\n",
       "    <tr>\n",
       "      <th>6453</th>\n",
       "      <td>ZB^H</td>\n",
       "      <td>NYSE</td>\n",
       "      <td>ZIONS BANCORPORATION</td>\n",
       "      <td>NaN</td>\n",
       "      <td>NaN</td>\n",
       "    </tr>\n",
       "  </tbody>\n",
       "</table>\n",
       "<p>1440 rows × 5 columns</p>\n",
       "</div>"
      ],
      "text/plain": [
       "     ticker exchange                                               name  \\\n",
       "19      ABP   NASDAQ                                  ABPRO CORPORATION   \n",
       "42     SQZZ   NASDAQ                         ACTIVE ALTS CONTRARIAN ETF   \n",
       "62      ACT   NASDAQ                             ADVISORSHARES VICE ETF   \n",
       "100    ABDC   NASDAQ                             ALCENTRA CAPITAL CORP.   \n",
       "124    SMCP   NASDAQ           ALPHAMARK ACTIVELY MANAGED SMALL CAP ETF   \n",
       "...     ...      ...                                                ...   \n",
       "6393    WIA     NYSE  WESTERN ASSET/CLAYMORE U.S. TREASURY INFLATION...   \n",
       "6431   XFLT     NYSE  XAI OCTAGON FLOATING RATE & ALTERNATIVE INCOME...   \n",
       "6451   ZB^A     NYSE                               ZIONS BANCORPORATION   \n",
       "6452   ZB^G     NYSE                               ZIONS BANCORPORATION   \n",
       "6453   ZB^H     NYSE                               ZIONS BANCORPORATION   \n",
       "\n",
       "     sector industry  \n",
       "19      NaN      NaN  \n",
       "42      NaN      NaN  \n",
       "62      NaN      NaN  \n",
       "100     NaN      NaN  \n",
       "124     NaN      NaN  \n",
       "...     ...      ...  \n",
       "6393    NaN      NaN  \n",
       "6431    NaN      NaN  \n",
       "6451    NaN      NaN  \n",
       "6452    NaN      NaN  \n",
       "6453    NaN      NaN  \n",
       "\n",
       "[1440 rows x 5 columns]"
      ]
     },
     "execution_count": 4,
     "metadata": {},
     "output_type": "execute_result"
    }
   ],
   "source": [
    "stocks[stocks.isna().any(axis=1)]"
   ]
  },
  {
   "cell_type": "code",
   "execution_count": 5,
   "metadata": {},
   "outputs": [],
   "source": [
    "#prices[prices.isna().any(axis=1)]"
   ]
  },
  {
   "cell_type": "code",
   "execution_count": 6,
   "metadata": {},
   "outputs": [
    {
     "name": "stdout",
     "output_type": "stream",
     "text": [
      "Unique values for stocks\n",
      "ticker unique values:  6460\n",
      "exchange unique values:  2\n",
      "name unique values:  5462\n",
      "sector unique values:  13\n",
      "industry unique values:  136\n"
     ]
    }
   ],
   "source": [
    "print(\"Unique values for stocks\")\n",
    "for column in stocks:\n",
    "    print(column, \"unique values: \",stocks[column].nunique())\n",
    "#print(\"\\nUnique values for prices\")\n",
    "#for column in prices:\n",
    "#    print(column, \"unique values: \",prices[column].nunique())"
   ]
  },
  {
   "cell_type": "code",
   "execution_count": 7,
   "metadata": {
    "scrolled": true
   },
   "outputs": [
    {
     "name": "stdout",
     "output_type": "stream",
     "text": [
      "Pandas(Index='ENERGIZER HOLDINGS, INC.', sector=2)\n",
      "Pandas(Index='NEW YORK MORTGAGE TRUST, INC.', sector=2)\n",
      "911 4549 2\n"
     ]
    }
   ],
   "source": [
    "sector = stocks.groupby(['name'])['sector'].nunique()\n",
    "df = pd.DataFrame(sector)\n",
    "count_0 = 0\n",
    "count_1 = 0\n",
    "count_2 = 0\n",
    "for row in df.itertuples():\n",
    "    if row.sector == 0:\n",
    "        count_0 += 1\n",
    "    if row.sector == 1:\n",
    "        count_1 += 1\n",
    "    if row.sector == 2:\n",
    "        count_2 += 1\n",
    "        print(row)\n",
    "print(count_0, count_1, count_2)"
   ]
  },
  {
   "cell_type": "code",
   "execution_count": 8,
   "metadata": {},
   "outputs": [
    {
     "name": "stdout",
     "output_type": "stream",
     "text": [
      "Pandas(Index='ENERGIZER HOLDINGS, INC.', industry=2)\n",
      "Pandas(Index='NAVIENT CORPORATION', industry=2)\n",
      "Pandas(Index='NEW YORK MORTGAGE TRUST, INC.', industry=2)\n",
      "Pandas(Index='TEGNA INC.', industry=2)\n",
      "911 4547 4\n"
     ]
    }
   ],
   "source": [
    "industry = stocks.groupby(['name'])['industry'].nunique()\n",
    "df = pd.DataFrame(industry)\n",
    "count_0 = 0\n",
    "count_1 = 0\n",
    "count_2 = 0\n",
    "for row in df.itertuples():\n",
    "    if row.industry == 0:\n",
    "        count_0 += 1\n",
    "    if row.industry == 1:\n",
    "        count_1 += 1\n",
    "    if row.industry == 2:\n",
    "        count_2 += 1\n",
    "        print (row)     \n",
    "print(count_0, count_1, count_2)"
   ]
  },
  {
   "cell_type": "code",
   "execution_count": 9,
   "metadata": {
    "scrolled": true
   },
   "outputs": [
    {
     "data": {
      "text/plain": [
       "(5020, 5)"
      ]
     },
     "execution_count": 9,
     "metadata": {},
     "output_type": "execute_result"
    }
   ],
   "source": [
    "stocks = stocks.dropna()\n",
    "stocks.shape"
   ]
  },
  {
   "cell_type": "code",
   "execution_count": 12,
   "metadata": {},
   "outputs": [],
   "source": [
    "stocks.to_csv('dataset/stocks.csv', index=False)"
   ]
  },
  {
   "cell_type": "code",
   "execution_count": null,
   "metadata": {},
   "outputs": [],
   "source": []
  }
 ],
 "metadata": {
  "kernelspec": {
   "display_name": "Python 3",
   "language": "python",
   "name": "python3"
  },
  "language_info": {
   "codemirror_mode": {
    "name": "ipython",
    "version": 3
   },
   "file_extension": ".py",
   "mimetype": "text/x-python",
   "name": "python",
   "nbconvert_exporter": "python",
   "pygments_lexer": "ipython3",
   "version": "3.7.6"
  }
 },
 "nbformat": 4,
 "nbformat_minor": 4
}
